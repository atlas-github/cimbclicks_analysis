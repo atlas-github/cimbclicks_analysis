{
  "nbformat": 4,
  "nbformat_minor": 0,
  "metadata": {
    "colab": {
      "name": "cimbclicks_analysis.ipynb",
      "provenance": [],
      "collapsed_sections": [],
      "toc_visible": true,
      "authorship_tag": "ABX9TyN/j28nkw018SsoQk47i1e8",
      "include_colab_link": true
    },
    "kernelspec": {
      "name": "python3",
      "display_name": "Python 3"
    }
  },
  "cells": [
    {
      "cell_type": "markdown",
      "metadata": {
        "id": "view-in-github",
        "colab_type": "text"
      },
      "source": [
        "<a href=\"https://colab.research.google.com/github/atlas-github/cimbclicks_analysis/blob/master/cimbclicks_analysis.ipynb\" target=\"_parent\"><img src=\"https://colab.research.google.com/assets/colab-badge.svg\" alt=\"Open In Colab\"/></a>"
      ]
    },
    {
      "cell_type": "markdown",
      "metadata": {
        "id": "m6Ji5lRGQZIB",
        "colab_type": "text"
      },
      "source": [
        "#Import libraries"
      ]
    },
    {
      "cell_type": "code",
      "metadata": {
        "id": "LYbstyFwPrEi",
        "colab_type": "code",
        "colab": {}
      },
      "source": [
        "import requests\n",
        "import urllib.request\n",
        "from bs4 import BeautifulSoup\n",
        "import pandas as pd"
      ],
      "execution_count": 0,
      "outputs": []
    },
    {
      "cell_type": "markdown",
      "metadata": {
        "id": "QxIIIW07Qend",
        "colab_type": "text"
      },
      "source": [
        "#Select target page"
      ]
    },
    {
      "cell_type": "code",
      "metadata": {
        "id": "ICHYR9IeQa8A",
        "colab_type": "code",
        "colab": {
          "base_uri": "https://localhost:8080/",
          "height": 34
        },
        "outputId": "08cc5e41-fe96-49e5-f3c2-5774450380f3"
      },
      "source": [
        "url = \"https://forum.lowyat.net/topic/4828500\"\n",
        "response = requests.get(url)\n",
        "response"
      ],
      "execution_count": 336,
      "outputs": [
        {
          "output_type": "execute_result",
          "data": {
            "text/plain": [
              "<Response [200]>"
            ]
          },
          "metadata": {
            "tags": []
          },
          "execution_count": 336
        }
      ]
    },
    {
      "cell_type": "markdown",
      "metadata": {
        "id": "YlqK__Q2QmDq",
        "colab_type": "text"
      },
      "source": [
        "#Scrape comments"
      ]
    },
    {
      "cell_type": "code",
      "metadata": {
        "id": "nXD1rSTmQjdq",
        "colab_type": "code",
        "colab": {
          "base_uri": "https://localhost:8080/",
          "height": 377
        },
        "outputId": "dc18e8db-6f46-4325-8a00-032dc6ad5d99"
      },
      "source": [
        "soup = BeautifulSoup(response.text, \"html.parser\")\n",
        "comments = soup.findAll(\"div\",{'class':\"postcolor post_text\"})\n",
        "comments_temp = list(comments)\n",
        "comments_list = []\n",
        "\n",
        "for i in range(len(comments)):\n",
        "  comments_list.append(comments[i].get_text())\n",
        "\n",
        "comments_list"
      ],
      "execution_count": 337,
      "outputs": [
        {
          "output_type": "execute_result",
          "data": {
            "text/plain": [
              "['    Bloody useless Octopus Bank.Early they said the apps is down and ask us to use Web version, now the web version is down.  I want to transfer money right now also cannot.This post has been edited by cringe: Aug 26 2019, 10:39 PM ',\n",
              " 'Lod incoming ',\n",
              " 'could it be another security issue? jeng jeng jeng.gif ',\n",
              " \"QUOTE(Lyu @ Aug 26 2019, 10:38 PM)Lod incomingWhat LOD. I'm Getting frustrated with this bank. \",\n",
              " 'Yup. Progressively getting worse with a major acceleration this year. ',\n",
              " \"QUOTE(cringe @ Aug 26 2019, 10:42 PM)What LOD. I'm Getting frustrated with this bank.Y limited thee self to one...? \",\n",
              " 'QUOTE(Lyu @ Aug 26 2019, 10:38 PM)Lod incomingLyu, you applied CC already? ',\n",
              " \"QUOTE(Baconateer @ Aug 26 2019, 10:42 PM)could it be another security issue? jeng jeng jeng.gifUsing KLIA's system. Plot twist. \",\n",
              " 'Its been down since morning. Only got to use the web version at abt 7+. Trf my money out to rhb in case app down again. ',\n",
              " 'Ive said it again n againMb2u > all ',\n",
              " 'one is tiger bank, one is otopus bank.same species je ',\n",
              " \"QUOTE(CWW88 @ Aug 26 2019, 10:44 PM)Its been down since morning. Only got to use the web version at abt 7+. Trf my money out to rhb in case app down again.QUOTE(ketupatlazat @ Aug 26 2019, 10:44 PM)Ive said it again n againMb2u > allThe only reason i'm using CIMB is because my salary credited to CIMB and I forgot to transfer my money to other bank. \",\n",
              " \"QUOTE(cringe @ Aug 26 2019, 10:45 PM)The only reason i'm using CIMB is because my salary credited to CIMB and I forgot to transfer my money to other bank.use standing instruction bro \",\n",
              " 'dam agree, dats why i have 2 bank maybank and cimb  ',\n",
              " 'QUOTE(JoeK @ Aug 26 2019, 10:43 PM)Lyu, you applied CC already?Not yet... Figured out HLB got good cashback But my area no HLB ',\n",
              " 'QUOTE(cringe @ Aug 26 2019, 10:37 PM)\\xa0 \\xa0 \\xa0  Bloody useless Octopus Bank.Early they said the apps is down and ask us to use Web version, now the web version is down.  I want to transfer money right now also cannot.Today many customers go cimb withdraw wang ',\n",
              " 'eh , damn bodo this cimb ',\n",
              " 'QUOTE(Lyu @ Aug 26 2019, 10:51 PM)Not yet... Figured out HLB got good cashback But my area no HLBWhich one? Hong Leong wise card ah? That one have to pay annual fee right? Not worth it.Cashback cimb bestest i think ',\n",
              " 'CIMB is down again.  ',\n",
              " 'topkek bank ']"
            ]
          },
          "metadata": {
            "tags": []
          },
          "execution_count": 337
        }
      ]
    },
    {
      "cell_type": "markdown",
      "metadata": {
        "id": "GAsqYEKjQtZX",
        "colab_type": "text"
      },
      "source": [
        "#Scrape usernames"
      ]
    },
    {
      "cell_type": "code",
      "metadata": {
        "id": "U1rf4JXEQpiq",
        "colab_type": "code",
        "colab": {
          "base_uri": "https://localhost:8080/",
          "height": 357
        },
        "outputId": "c752e840-a6bb-47c9-e8f7-9e29ed600a01"
      },
      "source": [
        "soup2 = BeautifulSoup(response.text, \"html.parser\")\n",
        "names = soup2.findAll(\"span\", {\"class\": \"normalname\"})\n",
        "names_temp = list(names)\n",
        "names_list = []\n",
        "\n",
        "for i in range(len(names)):\n",
        "  names_list.append(names[i].get_text())\n",
        "\n",
        "names_list"
      ],
      "execution_count": 338,
      "outputs": [
        {
          "output_type": "execute_result",
          "data": {
            "text/plain": [
              "['TScringe',\n",
              " 'Lyu',\n",
              " 'Baconateer',\n",
              " 'TScringe',\n",
              " 'thesoothsayer',\n",
              " 'Lyu',\n",
              " 'JoeK',\n",
              " 'sp6068',\n",
              " 'CWW88',\n",
              " 'ketupatlazat',\n",
              " 'alexkos',\n",
              " 'TScringe',\n",
              " 'alexkos',\n",
              " 'KcX35',\n",
              " 'Lyu',\n",
              " 'judehow',\n",
              " 'robert82',\n",
              " 'JoeK',\n",
              " 'TScringe',\n",
              " 'robert82']"
            ]
          },
          "metadata": {
            "tags": []
          },
          "execution_count": 338
        }
      ]
    },
    {
      "cell_type": "markdown",
      "metadata": {
        "id": "1mmF6n0gYl5r",
        "colab_type": "text"
      },
      "source": [
        "#Scrape quotes"
      ]
    },
    {
      "cell_type": "code",
      "metadata": {
        "id": "5q6vZ5XvYn5M",
        "colab_type": "code",
        "colab": {
          "base_uri": "https://localhost:8080/",
          "height": 187
        },
        "outputId": "98472567-4d49-4066-dd62-6e2b31878d3d"
      },
      "source": [
        "soup4 = BeautifulSoup(response.text, \"html.parser\")\n",
        "quote_who = soup4.findAll(\"div\", {\"class\": \"quotetop\"})\n",
        "quote_who_temp = list(quote_who)\n",
        "quote_who_list = []\n",
        "\n",
        "for i in range(len(quote_who)):\n",
        "  quote_who_list.append(quote_who[i].get_text())\n",
        "\n",
        "quote_who_list"
      ],
      "execution_count": 339,
      "outputs": [
        {
          "output_type": "execute_result",
          "data": {
            "text/plain": [
              "['QUOTE(Lyu @ Aug 26 2019, 10:38 PM)',\n",
              " 'QUOTE(cringe @ Aug 26 2019, 10:42 PM)',\n",
              " 'QUOTE(Lyu @ Aug 26 2019, 10:38 PM)',\n",
              " 'QUOTE(Baconateer @ Aug 26 2019, 10:42 PM)',\n",
              " 'QUOTE(CWW88 @ Aug 26 2019, 10:44 PM)',\n",
              " 'QUOTE(ketupatlazat @ Aug 26 2019, 10:44 PM)',\n",
              " 'QUOTE(cringe @ Aug 26 2019, 10:45 PM)',\n",
              " 'QUOTE(JoeK @ Aug 26 2019, 10:43 PM)',\n",
              " 'QUOTE(cringe @ Aug 26 2019, 10:37 PM)',\n",
              " 'QUOTE(Lyu @ Aug 26 2019, 10:51 PM)']"
            ]
          },
          "metadata": {
            "tags": []
          },
          "execution_count": 339
        }
      ]
    },
    {
      "cell_type": "code",
      "metadata": {
        "id": "WlVc49fQZ1CF",
        "colab_type": "code",
        "colab": {
          "base_uri": "https://localhost:8080/",
          "height": 207
        },
        "outputId": "4cb16ca1-94dc-4f4e-ccd3-e35a47899a6b"
      },
      "source": [
        "soup5 = BeautifulSoup(response.text, \"html.parser\")\n",
        "quote_what = soup5.findAll(\"div\", {\"class\": \"quotemain\"})\n",
        "quote_what_temp = list(quote_what)\n",
        "quote_what_list = []\n",
        "\n",
        "for i in range(len(quote_what)):\n",
        "  quote_what_list.append(quote_what[i].get_text())\n",
        "\n",
        "quote_what_list"
      ],
      "execution_count": 340,
      "outputs": [
        {
          "output_type": "execute_result",
          "data": {
            "text/plain": [
              "['Lod incoming',\n",
              " \"What LOD. I'm Getting frustrated with this bank.\",\n",
              " 'Lod incoming',\n",
              " 'could it be another security issue? jeng jeng jeng.gif',\n",
              " 'Its been down since morning. Only got to use the web version at abt 7+. Trf my money out to rhb in case app down again.',\n",
              " 'Ive said it again n againMb2u > all',\n",
              " \"The only reason i'm using CIMB is because my salary credited to CIMB and I forgot to transfer my money to other bank.\",\n",
              " 'Lyu, you applied CC already?',\n",
              " '\\xa0 \\xa0 \\xa0  Bloody useless Octopus Bank.Early they said the apps is down and ask us to use Web version, now the web version is down.  I want to transfer money right now also cannot.',\n",
              " 'Not yet... Figured out HLB got good cashback But my area no HLB']"
            ]
          },
          "metadata": {
            "tags": []
          },
          "execution_count": 340
        }
      ]
    },
    {
      "cell_type": "code",
      "metadata": {
        "id": "lcjifTbbcCEq",
        "colab_type": "code",
        "colab": {
          "base_uri": "https://localhost:8080/",
          "height": 328
        },
        "outputId": "2e1ef45c-fed8-45dd-a2d9-fb59bc3d13f8"
      },
      "source": [
        "compiled_quote = list(zip(quote_who_list, quote_what_list))\n",
        "quote_dataframe = pd.DataFrame(compiled_quote, columns = [\"Person_Quoted\", \"Quote_Content\"])\n",
        "quote_dataframe['Person_Quoted'] = quote_dataframe['Person_Quoted'].str.replace(')', '')\n",
        "quote_dataframe = quote_dataframe.drop_duplicates()\n",
        "quote_dataframe"
      ],
      "execution_count": 341,
      "outputs": [
        {
          "output_type": "execute_result",
          "data": {
            "text/html": [
              "<div>\n",
              "<style scoped>\n",
              "    .dataframe tbody tr th:only-of-type {\n",
              "        vertical-align: middle;\n",
              "    }\n",
              "\n",
              "    .dataframe tbody tr th {\n",
              "        vertical-align: top;\n",
              "    }\n",
              "\n",
              "    .dataframe thead th {\n",
              "        text-align: right;\n",
              "    }\n",
              "</style>\n",
              "<table border=\"1\" class=\"dataframe\">\n",
              "  <thead>\n",
              "    <tr style=\"text-align: right;\">\n",
              "      <th></th>\n",
              "      <th>Person_Quoted</th>\n",
              "      <th>Quote_Content</th>\n",
              "    </tr>\n",
              "  </thead>\n",
              "  <tbody>\n",
              "    <tr>\n",
              "      <th>0</th>\n",
              "      <td>QUOTE(Lyu @ Aug 26 2019, 10:38 PM</td>\n",
              "      <td>Lod incoming</td>\n",
              "    </tr>\n",
              "    <tr>\n",
              "      <th>1</th>\n",
              "      <td>QUOTE(cringe @ Aug 26 2019, 10:42 PM</td>\n",
              "      <td>What LOD. I'm Getting frustrated with this bank.</td>\n",
              "    </tr>\n",
              "    <tr>\n",
              "      <th>3</th>\n",
              "      <td>QUOTE(Baconateer @ Aug 26 2019, 10:42 PM</td>\n",
              "      <td>could it be another security issue? jeng jeng ...</td>\n",
              "    </tr>\n",
              "    <tr>\n",
              "      <th>4</th>\n",
              "      <td>QUOTE(CWW88 @ Aug 26 2019, 10:44 PM</td>\n",
              "      <td>Its been down since morning. Only got to use t...</td>\n",
              "    </tr>\n",
              "    <tr>\n",
              "      <th>5</th>\n",
              "      <td>QUOTE(ketupatlazat @ Aug 26 2019, 10:44 PM</td>\n",
              "      <td>Ive said it again n againMb2u &gt; all</td>\n",
              "    </tr>\n",
              "    <tr>\n",
              "      <th>6</th>\n",
              "      <td>QUOTE(cringe @ Aug 26 2019, 10:45 PM</td>\n",
              "      <td>The only reason i'm using CIMB is because my s...</td>\n",
              "    </tr>\n",
              "    <tr>\n",
              "      <th>7</th>\n",
              "      <td>QUOTE(JoeK @ Aug 26 2019, 10:43 PM</td>\n",
              "      <td>Lyu, you applied CC already?</td>\n",
              "    </tr>\n",
              "    <tr>\n",
              "      <th>8</th>\n",
              "      <td>QUOTE(cringe @ Aug 26 2019, 10:37 PM</td>\n",
              "      <td>Bloody useless Octopus Bank.Early they ...</td>\n",
              "    </tr>\n",
              "    <tr>\n",
              "      <th>9</th>\n",
              "      <td>QUOTE(Lyu @ Aug 26 2019, 10:51 PM</td>\n",
              "      <td>Not yet... Figured out HLB got good cashback B...</td>\n",
              "    </tr>\n",
              "  </tbody>\n",
              "</table>\n",
              "</div>"
            ],
            "text/plain": [
              "                                Person_Quoted                                      Quote_Content\n",
              "0           QUOTE(Lyu @ Aug 26 2019, 10:38 PM                                       Lod incoming\n",
              "1        QUOTE(cringe @ Aug 26 2019, 10:42 PM   What LOD. I'm Getting frustrated with this bank.\n",
              "3    QUOTE(Baconateer @ Aug 26 2019, 10:42 PM  could it be another security issue? jeng jeng ...\n",
              "4         QUOTE(CWW88 @ Aug 26 2019, 10:44 PM  Its been down since morning. Only got to use t...\n",
              "5  QUOTE(ketupatlazat @ Aug 26 2019, 10:44 PM                Ive said it again n againMb2u > all\n",
              "6        QUOTE(cringe @ Aug 26 2019, 10:45 PM  The only reason i'm using CIMB is because my s...\n",
              "7          QUOTE(JoeK @ Aug 26 2019, 10:43 PM                       Lyu, you applied CC already?\n",
              "8        QUOTE(cringe @ Aug 26 2019, 10:37 PM         Bloody useless Octopus Bank.Early they ...\n",
              "9           QUOTE(Lyu @ Aug 26 2019, 10:51 PM  Not yet... Figured out HLB got good cashback B..."
            ]
          },
          "metadata": {
            "tags": []
          },
          "execution_count": 341
        }
      ]
    },
    {
      "cell_type": "markdown",
      "metadata": {
        "id": "QahGkDnKQxb1",
        "colab_type": "text"
      },
      "source": [
        "#Merge usernames and comments into a table"
      ]
    },
    {
      "cell_type": "code",
      "metadata": {
        "id": "kYXdxpVcQwou",
        "colab_type": "code",
        "colab": {
          "base_uri": "https://localhost:8080/",
          "height": 669
        },
        "outputId": "3fac9f21-a9a2-4d28-c367-beeaee3d4ce2"
      },
      "source": [
        "compiled_list = list(zip(names_list, comments_list))\n",
        "dataframe = pd.DataFrame(compiled_list, columns = [\"Person\", \"Comment\"])\n",
        "dataframe"
      ],
      "execution_count": 342,
      "outputs": [
        {
          "output_type": "execute_result",
          "data": {
            "text/html": [
              "<div>\n",
              "<style scoped>\n",
              "    .dataframe tbody tr th:only-of-type {\n",
              "        vertical-align: middle;\n",
              "    }\n",
              "\n",
              "    .dataframe tbody tr th {\n",
              "        vertical-align: top;\n",
              "    }\n",
              "\n",
              "    .dataframe thead th {\n",
              "        text-align: right;\n",
              "    }\n",
              "</style>\n",
              "<table border=\"1\" class=\"dataframe\">\n",
              "  <thead>\n",
              "    <tr style=\"text-align: right;\">\n",
              "      <th></th>\n",
              "      <th>Person</th>\n",
              "      <th>Comment</th>\n",
              "    </tr>\n",
              "  </thead>\n",
              "  <tbody>\n",
              "    <tr>\n",
              "      <th>0</th>\n",
              "      <td>TScringe</td>\n",
              "      <td>Bloody useless Octopus Bank.Early they sai...</td>\n",
              "    </tr>\n",
              "    <tr>\n",
              "      <th>1</th>\n",
              "      <td>Lyu</td>\n",
              "      <td>Lod incoming</td>\n",
              "    </tr>\n",
              "    <tr>\n",
              "      <th>2</th>\n",
              "      <td>Baconateer</td>\n",
              "      <td>could it be another security issue? jeng jeng ...</td>\n",
              "    </tr>\n",
              "    <tr>\n",
              "      <th>3</th>\n",
              "      <td>TScringe</td>\n",
              "      <td>QUOTE(Lyu @ Aug 26 2019, 10:38 PM)Lod incoming...</td>\n",
              "    </tr>\n",
              "    <tr>\n",
              "      <th>4</th>\n",
              "      <td>thesoothsayer</td>\n",
              "      <td>Yup. Progressively getting worse with a major ...</td>\n",
              "    </tr>\n",
              "    <tr>\n",
              "      <th>5</th>\n",
              "      <td>Lyu</td>\n",
              "      <td>QUOTE(cringe @ Aug 26 2019, 10:42 PM)What LOD....</td>\n",
              "    </tr>\n",
              "    <tr>\n",
              "      <th>6</th>\n",
              "      <td>JoeK</td>\n",
              "      <td>QUOTE(Lyu @ Aug 26 2019, 10:38 PM)Lod incoming...</td>\n",
              "    </tr>\n",
              "    <tr>\n",
              "      <th>7</th>\n",
              "      <td>sp6068</td>\n",
              "      <td>QUOTE(Baconateer @ Aug 26 2019, 10:42 PM)could...</td>\n",
              "    </tr>\n",
              "    <tr>\n",
              "      <th>8</th>\n",
              "      <td>CWW88</td>\n",
              "      <td>Its been down since morning. Only got to use t...</td>\n",
              "    </tr>\n",
              "    <tr>\n",
              "      <th>9</th>\n",
              "      <td>ketupatlazat</td>\n",
              "      <td>Ive said it again n againMb2u &gt; all</td>\n",
              "    </tr>\n",
              "    <tr>\n",
              "      <th>10</th>\n",
              "      <td>alexkos</td>\n",
              "      <td>one is tiger bank, one is otopus bank.same spe...</td>\n",
              "    </tr>\n",
              "    <tr>\n",
              "      <th>11</th>\n",
              "      <td>TScringe</td>\n",
              "      <td>QUOTE(CWW88 @ Aug 26 2019, 10:44 PM)Its been d...</td>\n",
              "    </tr>\n",
              "    <tr>\n",
              "      <th>12</th>\n",
              "      <td>alexkos</td>\n",
              "      <td>QUOTE(cringe @ Aug 26 2019, 10:45 PM)The only ...</td>\n",
              "    </tr>\n",
              "    <tr>\n",
              "      <th>13</th>\n",
              "      <td>KcX35</td>\n",
              "      <td>dam agree, dats why i have 2 bank maybank and ...</td>\n",
              "    </tr>\n",
              "    <tr>\n",
              "      <th>14</th>\n",
              "      <td>Lyu</td>\n",
              "      <td>QUOTE(JoeK @ Aug 26 2019, 10:43 PM)Lyu, you ap...</td>\n",
              "    </tr>\n",
              "    <tr>\n",
              "      <th>15</th>\n",
              "      <td>judehow</td>\n",
              "      <td>QUOTE(cringe @ Aug 26 2019, 10:37 PM)       Bl...</td>\n",
              "    </tr>\n",
              "    <tr>\n",
              "      <th>16</th>\n",
              "      <td>robert82</td>\n",
              "      <td>eh , damn bodo this cimb</td>\n",
              "    </tr>\n",
              "    <tr>\n",
              "      <th>17</th>\n",
              "      <td>JoeK</td>\n",
              "      <td>QUOTE(Lyu @ Aug 26 2019, 10:51 PM)Not yet... F...</td>\n",
              "    </tr>\n",
              "    <tr>\n",
              "      <th>18</th>\n",
              "      <td>TScringe</td>\n",
              "      <td>CIMB is down again.</td>\n",
              "    </tr>\n",
              "    <tr>\n",
              "      <th>19</th>\n",
              "      <td>robert82</td>\n",
              "      <td>topkek bank</td>\n",
              "    </tr>\n",
              "  </tbody>\n",
              "</table>\n",
              "</div>"
            ],
            "text/plain": [
              "           Person                                            Comment\n",
              "0        TScringe      Bloody useless Octopus Bank.Early they sai...\n",
              "1             Lyu                                      Lod incoming \n",
              "2      Baconateer  could it be another security issue? jeng jeng ...\n",
              "3        TScringe  QUOTE(Lyu @ Aug 26 2019, 10:38 PM)Lod incoming...\n",
              "4   thesoothsayer  Yup. Progressively getting worse with a major ...\n",
              "5             Lyu  QUOTE(cringe @ Aug 26 2019, 10:42 PM)What LOD....\n",
              "6            JoeK  QUOTE(Lyu @ Aug 26 2019, 10:38 PM)Lod incoming...\n",
              "7          sp6068  QUOTE(Baconateer @ Aug 26 2019, 10:42 PM)could...\n",
              "8           CWW88  Its been down since morning. Only got to use t...\n",
              "9    ketupatlazat               Ive said it again n againMb2u > all \n",
              "10        alexkos  one is tiger bank, one is otopus bank.same spe...\n",
              "11       TScringe  QUOTE(CWW88 @ Aug 26 2019, 10:44 PM)Its been d...\n",
              "12        alexkos  QUOTE(cringe @ Aug 26 2019, 10:45 PM)The only ...\n",
              "13          KcX35  dam agree, dats why i have 2 bank maybank and ...\n",
              "14            Lyu  QUOTE(JoeK @ Aug 26 2019, 10:43 PM)Lyu, you ap...\n",
              "15        judehow  QUOTE(cringe @ Aug 26 2019, 10:37 PM)       Bl...\n",
              "16       robert82                          eh , damn bodo this cimb \n",
              "17           JoeK  QUOTE(Lyu @ Aug 26 2019, 10:51 PM)Not yet... F...\n",
              "18       TScringe                              CIMB is down again.  \n",
              "19       robert82                                       topkek bank "
            ]
          },
          "metadata": {
            "tags": []
          },
          "execution_count": 342
        }
      ]
    },
    {
      "cell_type": "code",
      "metadata": {
        "id": "ddmz91tgfmPe",
        "colab_type": "code",
        "colab": {
          "base_uri": "https://localhost:8080/",
          "height": 669
        },
        "outputId": "72ec9472-2035-45b5-eb71-feaad1af3aba"
      },
      "source": [
        "dataframe[['Person_Quoted', 'Comment']] = dataframe['Comment'].str.split(\")\", n = 1, expand = True)\n",
        "dataframe"
      ],
      "execution_count": 343,
      "outputs": [
        {
          "output_type": "execute_result",
          "data": {
            "text/html": [
              "<div>\n",
              "<style scoped>\n",
              "    .dataframe tbody tr th:only-of-type {\n",
              "        vertical-align: middle;\n",
              "    }\n",
              "\n",
              "    .dataframe tbody tr th {\n",
              "        vertical-align: top;\n",
              "    }\n",
              "\n",
              "    .dataframe thead th {\n",
              "        text-align: right;\n",
              "    }\n",
              "</style>\n",
              "<table border=\"1\" class=\"dataframe\">\n",
              "  <thead>\n",
              "    <tr style=\"text-align: right;\">\n",
              "      <th></th>\n",
              "      <th>Person</th>\n",
              "      <th>Comment</th>\n",
              "      <th>Person_Quoted</th>\n",
              "    </tr>\n",
              "  </thead>\n",
              "  <tbody>\n",
              "    <tr>\n",
              "      <th>0</th>\n",
              "      <td>TScringe</td>\n",
              "      <td>None</td>\n",
              "      <td>Bloody useless Octopus Bank.Early they sai...</td>\n",
              "    </tr>\n",
              "    <tr>\n",
              "      <th>1</th>\n",
              "      <td>Lyu</td>\n",
              "      <td>None</td>\n",
              "      <td>Lod incoming</td>\n",
              "    </tr>\n",
              "    <tr>\n",
              "      <th>2</th>\n",
              "      <td>Baconateer</td>\n",
              "      <td>None</td>\n",
              "      <td>could it be another security issue? jeng jeng ...</td>\n",
              "    </tr>\n",
              "    <tr>\n",
              "      <th>3</th>\n",
              "      <td>TScringe</td>\n",
              "      <td>Lod incomingWhat LOD. I'm Getting frustrated w...</td>\n",
              "      <td>QUOTE(Lyu @ Aug 26 2019, 10:38 PM</td>\n",
              "    </tr>\n",
              "    <tr>\n",
              "      <th>4</th>\n",
              "      <td>thesoothsayer</td>\n",
              "      <td>None</td>\n",
              "      <td>Yup. Progressively getting worse with a major ...</td>\n",
              "    </tr>\n",
              "    <tr>\n",
              "      <th>5</th>\n",
              "      <td>Lyu</td>\n",
              "      <td>What LOD. I'm Getting frustrated with this ban...</td>\n",
              "      <td>QUOTE(cringe @ Aug 26 2019, 10:42 PM</td>\n",
              "    </tr>\n",
              "    <tr>\n",
              "      <th>6</th>\n",
              "      <td>JoeK</td>\n",
              "      <td>Lod incomingLyu, you applied CC already?</td>\n",
              "      <td>QUOTE(Lyu @ Aug 26 2019, 10:38 PM</td>\n",
              "    </tr>\n",
              "    <tr>\n",
              "      <th>7</th>\n",
              "      <td>sp6068</td>\n",
              "      <td>could it be another security issue? jeng jeng ...</td>\n",
              "      <td>QUOTE(Baconateer @ Aug 26 2019, 10:42 PM</td>\n",
              "    </tr>\n",
              "    <tr>\n",
              "      <th>8</th>\n",
              "      <td>CWW88</td>\n",
              "      <td>None</td>\n",
              "      <td>Its been down since morning. Only got to use t...</td>\n",
              "    </tr>\n",
              "    <tr>\n",
              "      <th>9</th>\n",
              "      <td>ketupatlazat</td>\n",
              "      <td>None</td>\n",
              "      <td>Ive said it again n againMb2u &gt; all</td>\n",
              "    </tr>\n",
              "    <tr>\n",
              "      <th>10</th>\n",
              "      <td>alexkos</td>\n",
              "      <td>None</td>\n",
              "      <td>one is tiger bank, one is otopus bank.same spe...</td>\n",
              "    </tr>\n",
              "    <tr>\n",
              "      <th>11</th>\n",
              "      <td>TScringe</td>\n",
              "      <td>Its been down since morning. Only got to use t...</td>\n",
              "      <td>QUOTE(CWW88 @ Aug 26 2019, 10:44 PM</td>\n",
              "    </tr>\n",
              "    <tr>\n",
              "      <th>12</th>\n",
              "      <td>alexkos</td>\n",
              "      <td>The only reason i'm using CIMB is because my s...</td>\n",
              "      <td>QUOTE(cringe @ Aug 26 2019, 10:45 PM</td>\n",
              "    </tr>\n",
              "    <tr>\n",
              "      <th>13</th>\n",
              "      <td>KcX35</td>\n",
              "      <td>None</td>\n",
              "      <td>dam agree, dats why i have 2 bank maybank and ...</td>\n",
              "    </tr>\n",
              "    <tr>\n",
              "      <th>14</th>\n",
              "      <td>Lyu</td>\n",
              "      <td>Lyu, you applied CC already?Not yet... Figured...</td>\n",
              "      <td>QUOTE(JoeK @ Aug 26 2019, 10:43 PM</td>\n",
              "    </tr>\n",
              "    <tr>\n",
              "      <th>15</th>\n",
              "      <td>judehow</td>\n",
              "      <td>Bloody useless Octopus Bank.Early they ...</td>\n",
              "      <td>QUOTE(cringe @ Aug 26 2019, 10:37 PM</td>\n",
              "    </tr>\n",
              "    <tr>\n",
              "      <th>16</th>\n",
              "      <td>robert82</td>\n",
              "      <td>None</td>\n",
              "      <td>eh , damn bodo this cimb</td>\n",
              "    </tr>\n",
              "    <tr>\n",
              "      <th>17</th>\n",
              "      <td>JoeK</td>\n",
              "      <td>Not yet... Figured out HLB got good cashback B...</td>\n",
              "      <td>QUOTE(Lyu @ Aug 26 2019, 10:51 PM</td>\n",
              "    </tr>\n",
              "    <tr>\n",
              "      <th>18</th>\n",
              "      <td>TScringe</td>\n",
              "      <td>None</td>\n",
              "      <td>CIMB is down again.</td>\n",
              "    </tr>\n",
              "    <tr>\n",
              "      <th>19</th>\n",
              "      <td>robert82</td>\n",
              "      <td>None</td>\n",
              "      <td>topkek bank</td>\n",
              "    </tr>\n",
              "  </tbody>\n",
              "</table>\n",
              "</div>"
            ],
            "text/plain": [
              "           Person  ...                                      Person_Quoted\n",
              "0        TScringe  ...      Bloody useless Octopus Bank.Early they sai...\n",
              "1             Lyu  ...                                      Lod incoming \n",
              "2      Baconateer  ...  could it be another security issue? jeng jeng ...\n",
              "3        TScringe  ...                  QUOTE(Lyu @ Aug 26 2019, 10:38 PM\n",
              "4   thesoothsayer  ...  Yup. Progressively getting worse with a major ...\n",
              "5             Lyu  ...               QUOTE(cringe @ Aug 26 2019, 10:42 PM\n",
              "6            JoeK  ...                  QUOTE(Lyu @ Aug 26 2019, 10:38 PM\n",
              "7          sp6068  ...           QUOTE(Baconateer @ Aug 26 2019, 10:42 PM\n",
              "8           CWW88  ...  Its been down since morning. Only got to use t...\n",
              "9    ketupatlazat  ...               Ive said it again n againMb2u > all \n",
              "10        alexkos  ...  one is tiger bank, one is otopus bank.same spe...\n",
              "11       TScringe  ...                QUOTE(CWW88 @ Aug 26 2019, 10:44 PM\n",
              "12        alexkos  ...               QUOTE(cringe @ Aug 26 2019, 10:45 PM\n",
              "13          KcX35  ...  dam agree, dats why i have 2 bank maybank and ...\n",
              "14            Lyu  ...                 QUOTE(JoeK @ Aug 26 2019, 10:43 PM\n",
              "15        judehow  ...               QUOTE(cringe @ Aug 26 2019, 10:37 PM\n",
              "16       robert82  ...                          eh , damn bodo this cimb \n",
              "17           JoeK  ...                  QUOTE(Lyu @ Aug 26 2019, 10:51 PM\n",
              "18       TScringe  ...                              CIMB is down again.  \n",
              "19       robert82  ...                                       topkek bank \n",
              "\n",
              "[20 rows x 3 columns]"
            ]
          },
          "metadata": {
            "tags": []
          },
          "execution_count": 343
        }
      ]
    },
    {
      "cell_type": "markdown",
      "metadata": {
        "id": "1EFrEF0rQ7FB",
        "colab_type": "text"
      },
      "source": [
        "#Scrape all pages"
      ]
    },
    {
      "cell_type": "code",
      "metadata": {
        "id": "T5LLjA8jQ1-I",
        "colab_type": "code",
        "colab": {}
      },
      "source": [
        "pages = [\"/+0\", \"/+20\", \"/+40\", \"/+60\"]\n",
        "comments_list = []\n",
        "names_list = []\n",
        "\n",
        "for i in range(0, len(pages)):\n",
        "  url = \"https://forum.lowyat.net/topic/4828500\"+pages[i]\n",
        "  response = requests.get(url)\n",
        "  soup = BeautifulSoup(response.text, \"html.parser\")\n",
        "  comments = soup.findAll(\"div\",{'class':\"postcolor post_text\"})\n",
        "  comments_temp = list(comments)\n",
        "     \n",
        "  for i in range(len(comments_temp)):\n",
        "    comments_list.append(comments_temp[i].get_text())\n",
        "  \n",
        "  names = soup.findAll(\"span\", {\"class\": \"normalname\"})\n",
        "  names_temp = list(names)\n",
        "  \n",
        "  for i in range(len(names_temp)):\n",
        "    names_list.append(names_temp[i].get_text())\n",
        "  \n",
        "compiled_list = list(zip(names_list, comments_list))"
      ],
      "execution_count": 0,
      "outputs": []
    },
    {
      "cell_type": "code",
      "metadata": {
        "id": "TakHU456RRho",
        "colab_type": "code",
        "colab": {
          "base_uri": "https://localhost:8080/",
          "height": 419
        },
        "outputId": "3714031e-c7f4-4cfc-d893-294da2f269cd"
      },
      "source": [
        "dataframe = pd.DataFrame(compiled_list, columns = [\"Person\", \"Comment\"])\n",
        "dataframe"
      ],
      "execution_count": 345,
      "outputs": [
        {
          "output_type": "execute_result",
          "data": {
            "text/html": [
              "<div>\n",
              "<style scoped>\n",
              "    .dataframe tbody tr th:only-of-type {\n",
              "        vertical-align: middle;\n",
              "    }\n",
              "\n",
              "    .dataframe tbody tr th {\n",
              "        vertical-align: top;\n",
              "    }\n",
              "\n",
              "    .dataframe thead th {\n",
              "        text-align: right;\n",
              "    }\n",
              "</style>\n",
              "<table border=\"1\" class=\"dataframe\">\n",
              "  <thead>\n",
              "    <tr style=\"text-align: right;\">\n",
              "      <th></th>\n",
              "      <th>Person</th>\n",
              "      <th>Comment</th>\n",
              "    </tr>\n",
              "  </thead>\n",
              "  <tbody>\n",
              "    <tr>\n",
              "      <th>0</th>\n",
              "      <td>TScringe</td>\n",
              "      <td>Bloody useless Octopus Bank.Early they sai...</td>\n",
              "    </tr>\n",
              "    <tr>\n",
              "      <th>1</th>\n",
              "      <td>Lyu</td>\n",
              "      <td>Lod incoming</td>\n",
              "    </tr>\n",
              "    <tr>\n",
              "      <th>2</th>\n",
              "      <td>Baconateer</td>\n",
              "      <td>could it be another security issue? jeng jeng ...</td>\n",
              "    </tr>\n",
              "    <tr>\n",
              "      <th>3</th>\n",
              "      <td>TScringe</td>\n",
              "      <td>QUOTE(Lyu @ Aug 26 2019, 10:38 PM)Lod incoming...</td>\n",
              "    </tr>\n",
              "    <tr>\n",
              "      <th>4</th>\n",
              "      <td>thesoothsayer</td>\n",
              "      <td>Yup. Progressively getting worse with a major ...</td>\n",
              "    </tr>\n",
              "    <tr>\n",
              "      <th>...</th>\n",
              "      <td>...</td>\n",
              "      <td>...</td>\n",
              "    </tr>\n",
              "    <tr>\n",
              "      <th>58</th>\n",
              "      <td>lrtss18</td>\n",
              "      <td>say no to cimbeng</td>\n",
              "    </tr>\n",
              "    <tr>\n",
              "      <th>59</th>\n",
              "      <td>POYOZER</td>\n",
              "      <td>Omg. My bills still pending.</td>\n",
              "    </tr>\n",
              "    <tr>\n",
              "      <th>60</th>\n",
              "      <td>andise</td>\n",
              "      <td>still slow until today</td>\n",
              "    </tr>\n",
              "    <tr>\n",
              "      <th>61</th>\n",
              "      <td>graphidz</td>\n",
              "      <td>Remember not to keep all your money in one ban...</td>\n",
              "    </tr>\n",
              "    <tr>\n",
              "      <th>62</th>\n",
              "      <td>kcchong2000</td>\n",
              "      <td>QUOTE(graphidz @ Aug 28 2019, 11:04 AM)Remembe...</td>\n",
              "    </tr>\n",
              "  </tbody>\n",
              "</table>\n",
              "<p>63 rows × 2 columns</p>\n",
              "</div>"
            ],
            "text/plain": [
              "           Person                                            Comment\n",
              "0        TScringe      Bloody useless Octopus Bank.Early they sai...\n",
              "1             Lyu                                      Lod incoming \n",
              "2      Baconateer  could it be another security issue? jeng jeng ...\n",
              "3        TScringe  QUOTE(Lyu @ Aug 26 2019, 10:38 PM)Lod incoming...\n",
              "4   thesoothsayer  Yup. Progressively getting worse with a major ...\n",
              "..            ...                                                ...\n",
              "58        lrtss18                                 say no to cimbeng \n",
              "59        POYOZER                      Omg. My bills still pending. \n",
              "60         andise                            still slow until today \n",
              "61       graphidz  Remember not to keep all your money in one ban...\n",
              "62    kcchong2000  QUOTE(graphidz @ Aug 28 2019, 11:04 AM)Remembe...\n",
              "\n",
              "[63 rows x 2 columns]"
            ]
          },
          "metadata": {
            "tags": []
          },
          "execution_count": 345
        }
      ]
    },
    {
      "cell_type": "markdown",
      "metadata": {
        "id": "Y7k0ECPG1P4o",
        "colab_type": "text"
      },
      "source": [
        "#Sentiment Analysis"
      ]
    },
    {
      "cell_type": "code",
      "metadata": {
        "id": "PZbqwRpmSP2z",
        "colab_type": "code",
        "colab": {
          "base_uri": "https://localhost:8080/",
          "height": 34
        },
        "outputId": "cf4c09a3-2af2-4bb3-e95f-586ea3dc875b"
      },
      "source": [
        "!pip install afinn\n",
        "from afinn import Afinn\n",
        "af = Afinn()"
      ],
      "execution_count": 346,
      "outputs": [
        {
          "output_type": "stream",
          "text": [
            "Requirement already satisfied: afinn in /usr/local/lib/python3.6/dist-packages (0.1)\n"
          ],
          "name": "stdout"
        }
      ]
    },
    {
      "cell_type": "code",
      "metadata": {
        "id": "T_4l8ML8Xycl",
        "colab_type": "code",
        "colab": {}
      },
      "source": [
        "sentiment_scores = []\n",
        "\n",
        "for i in range(len(dataframe)):\n",
        "  sentiment_scores.append(af.score(dataframe.iloc[i, 1]))\n",
        "\n",
        "sentiment_category = ['positive' if score > 0 \n",
        "                          else 'negative' if score < 0 \n",
        "                              else 'neutral' \n",
        "                                  for score in sentiment_scores]"
      ],
      "execution_count": 0,
      "outputs": []
    },
    {
      "cell_type": "code",
      "metadata": {
        "id": "GNOcccsM1q_u",
        "colab_type": "code",
        "colab": {
          "base_uri": "https://localhost:8080/",
          "height": 419
        },
        "outputId": "f2262ba5-6ad7-4357-d0b1-f04d68d90eb4"
      },
      "source": [
        "sentiment_df = pd.DataFrame(sentiment_scores, columns = {'Sentiment_Scores'})\n",
        "category_df = pd.DataFrame(sentiment_category, columns = {\"Sentiment Category\"})\n",
        "sentiment_df\n",
        "category_df\n",
        "df = pd.concat([dataframe, sentiment_df, category_df], axis = 1)\n",
        "df['Sentiment_Scores'] = df.Sentiment_Scores.astype('float')\n",
        "df"
      ],
      "execution_count": 348,
      "outputs": [
        {
          "output_type": "execute_result",
          "data": {
            "text/html": [
              "<div>\n",
              "<style scoped>\n",
              "    .dataframe tbody tr th:only-of-type {\n",
              "        vertical-align: middle;\n",
              "    }\n",
              "\n",
              "    .dataframe tbody tr th {\n",
              "        vertical-align: top;\n",
              "    }\n",
              "\n",
              "    .dataframe thead th {\n",
              "        text-align: right;\n",
              "    }\n",
              "</style>\n",
              "<table border=\"1\" class=\"dataframe\">\n",
              "  <thead>\n",
              "    <tr style=\"text-align: right;\">\n",
              "      <th></th>\n",
              "      <th>Person</th>\n",
              "      <th>Comment</th>\n",
              "      <th>Sentiment_Scores</th>\n",
              "      <th>Sentiment Category</th>\n",
              "    </tr>\n",
              "  </thead>\n",
              "  <tbody>\n",
              "    <tr>\n",
              "      <th>0</th>\n",
              "      <td>TScringe</td>\n",
              "      <td>Bloody useless Octopus Bank.Early they sai...</td>\n",
              "      <td>-4.0</td>\n",
              "      <td>negative</td>\n",
              "    </tr>\n",
              "    <tr>\n",
              "      <th>1</th>\n",
              "      <td>Lyu</td>\n",
              "      <td>Lod incoming</td>\n",
              "      <td>0.0</td>\n",
              "      <td>neutral</td>\n",
              "    </tr>\n",
              "    <tr>\n",
              "      <th>2</th>\n",
              "      <td>Baconateer</td>\n",
              "      <td>could it be another security issue? jeng jeng ...</td>\n",
              "      <td>0.0</td>\n",
              "      <td>neutral</td>\n",
              "    </tr>\n",
              "    <tr>\n",
              "      <th>3</th>\n",
              "      <td>TScringe</td>\n",
              "      <td>QUOTE(Lyu @ Aug 26 2019, 10:38 PM)Lod incoming...</td>\n",
              "      <td>-2.0</td>\n",
              "      <td>negative</td>\n",
              "    </tr>\n",
              "    <tr>\n",
              "      <th>4</th>\n",
              "      <td>thesoothsayer</td>\n",
              "      <td>Yup. Progressively getting worse with a major ...</td>\n",
              "      <td>-3.0</td>\n",
              "      <td>negative</td>\n",
              "    </tr>\n",
              "    <tr>\n",
              "      <th>...</th>\n",
              "      <td>...</td>\n",
              "      <td>...</td>\n",
              "      <td>...</td>\n",
              "      <td>...</td>\n",
              "    </tr>\n",
              "    <tr>\n",
              "      <th>58</th>\n",
              "      <td>lrtss18</td>\n",
              "      <td>say no to cimbeng</td>\n",
              "      <td>-1.0</td>\n",
              "      <td>negative</td>\n",
              "    </tr>\n",
              "    <tr>\n",
              "      <th>59</th>\n",
              "      <td>POYOZER</td>\n",
              "      <td>Omg. My bills still pending.</td>\n",
              "      <td>0.0</td>\n",
              "      <td>neutral</td>\n",
              "    </tr>\n",
              "    <tr>\n",
              "      <th>60</th>\n",
              "      <td>andise</td>\n",
              "      <td>still slow until today</td>\n",
              "      <td>0.0</td>\n",
              "      <td>neutral</td>\n",
              "    </tr>\n",
              "    <tr>\n",
              "      <th>61</th>\n",
              "      <td>graphidz</td>\n",
              "      <td>Remember not to keep all your money in one ban...</td>\n",
              "      <td>-2.0</td>\n",
              "      <td>negative</td>\n",
              "    </tr>\n",
              "    <tr>\n",
              "      <th>62</th>\n",
              "      <td>kcchong2000</td>\n",
              "      <td>QUOTE(graphidz @ Aug 28 2019, 11:04 AM)Remembe...</td>\n",
              "      <td>0.0</td>\n",
              "      <td>neutral</td>\n",
              "    </tr>\n",
              "  </tbody>\n",
              "</table>\n",
              "<p>63 rows × 4 columns</p>\n",
              "</div>"
            ],
            "text/plain": [
              "           Person  ... Sentiment Category\n",
              "0        TScringe  ...           negative\n",
              "1             Lyu  ...            neutral\n",
              "2      Baconateer  ...            neutral\n",
              "3        TScringe  ...           negative\n",
              "4   thesoothsayer  ...           negative\n",
              "..            ...  ...                ...\n",
              "58        lrtss18  ...           negative\n",
              "59        POYOZER  ...            neutral\n",
              "60         andise  ...            neutral\n",
              "61       graphidz  ...           negative\n",
              "62    kcchong2000  ...            neutral\n",
              "\n",
              "[63 rows x 4 columns]"
            ]
          },
          "metadata": {
            "tags": []
          },
          "execution_count": 348
        }
      ]
    },
    {
      "cell_type": "code",
      "metadata": {
        "id": "uE-jIMglBvoo",
        "colab_type": "code",
        "colab": {}
      },
      "source": [
        "df.to_csv(\"complaints.csv\")\n",
        "from google.colab import files\n",
        "files.download(\"complaints.csv\")"
      ],
      "execution_count": 0,
      "outputs": []
    },
    {
      "cell_type": "code",
      "metadata": {
        "id": "H4xj145j18Ps",
        "colab_type": "code",
        "colab": {
          "base_uri": "https://localhost:8080/",
          "height": 286
        },
        "outputId": "45d064a5-d337-47e7-9736-1de059e602e6"
      },
      "source": [
        "import seaborn as sns\n",
        "sns.set(style = 'whitegrid')\n",
        "ax = sns.countplot(x = 'Sentiment_Scores', data = df)"
      ],
      "execution_count": 350,
      "outputs": [
        {
          "output_type": "display_data",
          "data": {
            "image/png": "[encoded data removed]",
            "text/plain": [
              "<Figure size 432x288 with 1 Axes>"
            ]
          },
          "metadata": {
            "tags": []
          }
        }
      ]
    },
    {
      "cell_type": "code",
      "metadata": {
        "id": "Pgq4na_P6QRz",
        "colab_type": "code",
        "colab": {
          "base_uri": "https://localhost:8080/",
          "height": 204
        },
        "outputId": "515455fb-0703-4f48-c4ae-8f0a3d84f97e"
      },
      "source": [
        "df['Sentiment_Scores'].value_counts()"
      ],
      "execution_count": 351,
      "outputs": [
        {
          "output_type": "execute_result",
          "data": {
            "text/plain": [
              " 0.0     29\n",
              "-2.0      9\n",
              " 1.0      6\n",
              "-3.0      5\n",
              " 3.0      4\n",
              " 2.0      3\n",
              "-1.0      3\n",
              "-4.0      2\n",
              " 10.0     1\n",
              " 6.0      1\n",
              "Name: Sentiment_Scores, dtype: int64"
            ]
          },
          "metadata": {
            "tags": []
          },
          "execution_count": 351
        }
      ]
    },
    {
      "cell_type": "code",
      "metadata": {
        "id": "XRfGmgo_6q_H",
        "colab_type": "code",
        "colab": {
          "base_uri": "https://localhost:8080/",
          "height": 328
        },
        "outputId": "90a1e19c-ef9c-452e-fcc4-d14636c53cc1"
      },
      "source": [
        "negative = df.loc[df['Sentiment_Scores'] == -2.0]\n",
        "negative"
      ],
      "execution_count": 352,
      "outputs": [
        {
          "output_type": "execute_result",
          "data": {
            "text/html": [
              "<div>\n",
              "<style scoped>\n",
              "    .dataframe tbody tr th:only-of-type {\n",
              "        vertical-align: middle;\n",
              "    }\n",
              "\n",
              "    .dataframe tbody tr th {\n",
              "        vertical-align: top;\n",
              "    }\n",
              "\n",
              "    .dataframe thead th {\n",
              "        text-align: right;\n",
              "    }\n",
              "</style>\n",
              "<table border=\"1\" class=\"dataframe\">\n",
              "  <thead>\n",
              "    <tr style=\"text-align: right;\">\n",
              "      <th></th>\n",
              "      <th>Person</th>\n",
              "      <th>Comment</th>\n",
              "      <th>Sentiment_Scores</th>\n",
              "      <th>Sentiment Category</th>\n",
              "    </tr>\n",
              "  </thead>\n",
              "  <tbody>\n",
              "    <tr>\n",
              "      <th>3</th>\n",
              "      <td>TScringe</td>\n",
              "      <td>QUOTE(Lyu @ Aug 26 2019, 10:38 PM)Lod incoming...</td>\n",
              "      <td>-2.0</td>\n",
              "      <td>negative</td>\n",
              "    </tr>\n",
              "    <tr>\n",
              "      <th>16</th>\n",
              "      <td>robert82</td>\n",
              "      <td>eh , damn bodo this cimb</td>\n",
              "      <td>-2.0</td>\n",
              "      <td>negative</td>\n",
              "    </tr>\n",
              "    <tr>\n",
              "      <th>21</th>\n",
              "      <td>TScringe</td>\n",
              "      <td>QUOTE(robert82 @ Aug 27 2019, 09:23 AM)topkek ...</td>\n",
              "      <td>-2.0</td>\n",
              "      <td>negative</td>\n",
              "    </tr>\n",
              "    <tr>\n",
              "      <th>22</th>\n",
              "      <td>robert82</td>\n",
              "      <td>QUOTE(cringe @ Aug 27 2019, 09:26 AM)I see the...</td>\n",
              "      <td>-2.0</td>\n",
              "      <td>negative</td>\n",
              "    </tr>\n",
              "    <tr>\n",
              "      <th>46</th>\n",
              "      <td>Joe_Longgo</td>\n",
              "      <td>That is why my main bank is Public Bank. PBE o...</td>\n",
              "      <td>-2.0</td>\n",
              "      <td>negative</td>\n",
              "    </tr>\n",
              "    <tr>\n",
              "      <th>48</th>\n",
              "      <td>TScringe</td>\n",
              "      <td>QUOTE(Joe_Longgo @ Aug 27 2019, 02:07 PM)That ...</td>\n",
              "      <td>-2.0</td>\n",
              "      <td>negative</td>\n",
              "    </tr>\n",
              "    <tr>\n",
              "      <th>50</th>\n",
              "      <td>Joe_Longgo</td>\n",
              "      <td>QUOTE(cringe @ Aug 27 2019, 02:09 PM)Lack of A...</td>\n",
              "      <td>-2.0</td>\n",
              "      <td>negative</td>\n",
              "    </tr>\n",
              "    <tr>\n",
              "      <th>55</th>\n",
              "      <td>xSean</td>\n",
              "      <td>QUOTE(Joe_Longgo @ Aug 27 2019, 02:07 PM)That ...</td>\n",
              "      <td>-2.0</td>\n",
              "      <td>negative</td>\n",
              "    </tr>\n",
              "    <tr>\n",
              "      <th>61</th>\n",
              "      <td>graphidz</td>\n",
              "      <td>Remember not to keep all your money in one ban...</td>\n",
              "      <td>-2.0</td>\n",
              "      <td>negative</td>\n",
              "    </tr>\n",
              "  </tbody>\n",
              "</table>\n",
              "</div>"
            ],
            "text/plain": [
              "        Person  ... Sentiment Category\n",
              "3     TScringe  ...           negative\n",
              "16    robert82  ...           negative\n",
              "21    TScringe  ...           negative\n",
              "22    robert82  ...           negative\n",
              "46  Joe_Longgo  ...           negative\n",
              "48    TScringe  ...           negative\n",
              "50  Joe_Longgo  ...           negative\n",
              "55       xSean  ...           negative\n",
              "61    graphidz  ...           negative\n",
              "\n",
              "[9 rows x 4 columns]"
            ]
          },
          "metadata": {
            "tags": []
          },
          "execution_count": 352
        }
      ]
    },
    {
      "cell_type": "code",
      "metadata": {
        "id": "RimWkh2H6-Jw",
        "colab_type": "code",
        "colab": {}
      },
      "source": [
        "negative.to_csv(\"negative.csv\")\n",
        "files.download(\"negative.csv\")"
      ],
      "execution_count": 0,
      "outputs": []
    },
    {
      "cell_type": "code",
      "metadata": {
        "id": "gB9Uu8iY8-rq",
        "colab_type": "code",
        "colab": {
          "base_uri": "https://localhost:8080/",
          "height": 948
        },
        "outputId": "946ad09d-fdae-4d59-c10d-be9fc0148053"
      },
      "source": [
        "neutral = df.loc[df['Sentiment_Scores'] == 0.0]\n",
        "neutral"
      ],
      "execution_count": 354,
      "outputs": [
        {
          "output_type": "execute_result",
          "data": {
            "text/html": [
              "<div>\n",
              "<style scoped>\n",
              "    .dataframe tbody tr th:only-of-type {\n",
              "        vertical-align: middle;\n",
              "    }\n",
              "\n",
              "    .dataframe tbody tr th {\n",
              "        vertical-align: top;\n",
              "    }\n",
              "\n",
              "    .dataframe thead th {\n",
              "        text-align: right;\n",
              "    }\n",
              "</style>\n",
              "<table border=\"1\" class=\"dataframe\">\n",
              "  <thead>\n",
              "    <tr style=\"text-align: right;\">\n",
              "      <th></th>\n",
              "      <th>Person</th>\n",
              "      <th>Comment</th>\n",
              "      <th>Sentiment_Scores</th>\n",
              "      <th>Sentiment Category</th>\n",
              "    </tr>\n",
              "  </thead>\n",
              "  <tbody>\n",
              "    <tr>\n",
              "      <th>1</th>\n",
              "      <td>Lyu</td>\n",
              "      <td>Lod incoming</td>\n",
              "      <td>0.0</td>\n",
              "      <td>neutral</td>\n",
              "    </tr>\n",
              "    <tr>\n",
              "      <th>2</th>\n",
              "      <td>Baconateer</td>\n",
              "      <td>could it be another security issue? jeng jeng ...</td>\n",
              "      <td>0.0</td>\n",
              "      <td>neutral</td>\n",
              "    </tr>\n",
              "    <tr>\n",
              "      <th>6</th>\n",
              "      <td>JoeK</td>\n",
              "      <td>QUOTE(Lyu @ Aug 26 2019, 10:38 PM)Lod incoming...</td>\n",
              "      <td>0.0</td>\n",
              "      <td>neutral</td>\n",
              "    </tr>\n",
              "    <tr>\n",
              "      <th>7</th>\n",
              "      <td>sp6068</td>\n",
              "      <td>QUOTE(Baconateer @ Aug 26 2019, 10:42 PM)could...</td>\n",
              "      <td>0.0</td>\n",
              "      <td>neutral</td>\n",
              "    </tr>\n",
              "    <tr>\n",
              "      <th>8</th>\n",
              "      <td>CWW88</td>\n",
              "      <td>Its been down since morning. Only got to use t...</td>\n",
              "      <td>0.0</td>\n",
              "      <td>neutral</td>\n",
              "    </tr>\n",
              "    <tr>\n",
              "      <th>9</th>\n",
              "      <td>ketupatlazat</td>\n",
              "      <td>Ive said it again n againMb2u &gt; all</td>\n",
              "      <td>0.0</td>\n",
              "      <td>neutral</td>\n",
              "    </tr>\n",
              "    <tr>\n",
              "      <th>10</th>\n",
              "      <td>alexkos</td>\n",
              "      <td>one is tiger bank, one is otopus bank.same spe...</td>\n",
              "      <td>0.0</td>\n",
              "      <td>neutral</td>\n",
              "    </tr>\n",
              "    <tr>\n",
              "      <th>18</th>\n",
              "      <td>TScringe</td>\n",
              "      <td>CIMB is down again.</td>\n",
              "      <td>0.0</td>\n",
              "      <td>neutral</td>\n",
              "    </tr>\n",
              "    <tr>\n",
              "      <th>19</th>\n",
              "      <td>robert82</td>\n",
              "      <td>topkek bank</td>\n",
              "      <td>0.0</td>\n",
              "      <td>neutral</td>\n",
              "    </tr>\n",
              "    <tr>\n",
              "      <th>23</th>\n",
              "      <td>t3n</td>\n",
              "      <td>i cant even access their website....</td>\n",
              "      <td>0.0</td>\n",
              "      <td>neutral</td>\n",
              "    </tr>\n",
              "    <tr>\n",
              "      <th>25</th>\n",
              "      <td>Zanei Gundan</td>\n",
              "      <td>QUOTE(robert82 @ Aug 27 2019, 09:27 AM)i got c...</td>\n",
              "      <td>0.0</td>\n",
              "      <td>neutral</td>\n",
              "    </tr>\n",
              "    <tr>\n",
              "      <th>26</th>\n",
              "      <td>bill11</td>\n",
              "      <td>Maybe khazanah want cut costs and headcount.. ...</td>\n",
              "      <td>0.0</td>\n",
              "      <td>neutral</td>\n",
              "    </tr>\n",
              "    <tr>\n",
              "      <th>27</th>\n",
              "      <td>Chekusan2019</td>\n",
              "      <td>Dont understand cimb logic. Lets do our large ...</td>\n",
              "      <td>0.0</td>\n",
              "      <td>neutral</td>\n",
              "    </tr>\n",
              "    <tr>\n",
              "      <th>30</th>\n",
              "      <td>hightechgadgets8</td>\n",
              "      <td>cb down again</td>\n",
              "      <td>0.0</td>\n",
              "      <td>neutral</td>\n",
              "    </tr>\n",
              "    <tr>\n",
              "      <th>31</th>\n",
              "      <td>leotorino</td>\n",
              "      <td>QUOTE(Chekusan2019 @ Aug 27 2019, 11:25 AM)Don...</td>\n",
              "      <td>0.0</td>\n",
              "      <td>neutral</td>\n",
              "    </tr>\n",
              "    <tr>\n",
              "      <th>32</th>\n",
              "      <td>hjffgjng</td>\n",
              "      <td>Wonder why so many company bodo buta buta use ...</td>\n",
              "      <td>0.0</td>\n",
              "      <td>neutral</td>\n",
              "    </tr>\n",
              "    <tr>\n",
              "      <th>33</th>\n",
              "      <td>ze2</td>\n",
              "      <td>Whole IT team should bungkus.</td>\n",
              "      <td>0.0</td>\n",
              "      <td>neutral</td>\n",
              "    </tr>\n",
              "    <tr>\n",
              "      <th>34</th>\n",
              "      <td>Aaronnnnnn</td>\n",
              "      <td>QUOTE(hjffgjng @ Aug 27 2019, 11:28 AM)Wonder ...</td>\n",
              "      <td>0.0</td>\n",
              "      <td>neutral</td>\n",
              "    </tr>\n",
              "    <tr>\n",
              "      <th>36</th>\n",
              "      <td>Nervous Levin</td>\n",
              "      <td>you do realise that the octopus there is repre...</td>\n",
              "      <td>0.0</td>\n",
              "      <td>neutral</td>\n",
              "    </tr>\n",
              "    <tr>\n",
              "      <th>39</th>\n",
              "      <td>noien</td>\n",
              "      <td>still down until now.</td>\n",
              "      <td>0.0</td>\n",
              "      <td>neutral</td>\n",
              "    </tr>\n",
              "    <tr>\n",
              "      <th>40</th>\n",
              "      <td>smallcrab</td>\n",
              "      <td>Their IT facility need major upgradingLousy bank</td>\n",
              "      <td>0.0</td>\n",
              "      <td>neutral</td>\n",
              "    </tr>\n",
              "    <tr>\n",
              "      <th>42</th>\n",
              "      <td>MPPJ</td>\n",
              "      <td>But cimb have free instant transfer wo. No cho...</td>\n",
              "      <td>0.0</td>\n",
              "      <td>neutral</td>\n",
              "    </tr>\n",
              "    <tr>\n",
              "      <th>45</th>\n",
              "      <td>TheRant</td>\n",
              "      <td>QUOTE(MPPJ @ Aug 27 2019, 02:04 PM)Maybank2u c...</td>\n",
              "      <td>0.0</td>\n",
              "      <td>neutral</td>\n",
              "    </tr>\n",
              "    <tr>\n",
              "      <th>49</th>\n",
              "      <td>fumie</td>\n",
              "      <td>today also slow website sotong bank..</td>\n",
              "      <td>0.0</td>\n",
              "      <td>neutral</td>\n",
              "    </tr>\n",
              "    <tr>\n",
              "      <th>54</th>\n",
              "      <td>xSean</td>\n",
              "      <td>QUOTE(MPPJ @ Aug 27 2019, 02:04 PM)Maybank2u c...</td>\n",
              "      <td>0.0</td>\n",
              "      <td>neutral</td>\n",
              "    </tr>\n",
              "    <tr>\n",
              "      <th>56</th>\n",
              "      <td>andise</td>\n",
              "      <td>now very slow. keep loading even use company h...</td>\n",
              "      <td>0.0</td>\n",
              "      <td>neutral</td>\n",
              "    </tr>\n",
              "    <tr>\n",
              "      <th>59</th>\n",
              "      <td>POYOZER</td>\n",
              "      <td>Omg. My bills still pending.</td>\n",
              "      <td>0.0</td>\n",
              "      <td>neutral</td>\n",
              "    </tr>\n",
              "    <tr>\n",
              "      <th>60</th>\n",
              "      <td>andise</td>\n",
              "      <td>still slow until today</td>\n",
              "      <td>0.0</td>\n",
              "      <td>neutral</td>\n",
              "    </tr>\n",
              "    <tr>\n",
              "      <th>62</th>\n",
              "      <td>kcchong2000</td>\n",
              "      <td>QUOTE(graphidz @ Aug 28 2019, 11:04 AM)Remembe...</td>\n",
              "      <td>0.0</td>\n",
              "      <td>neutral</td>\n",
              "    </tr>\n",
              "  </tbody>\n",
              "</table>\n",
              "</div>"
            ],
            "text/plain": [
              "              Person  ... Sentiment Category\n",
              "1                Lyu  ...            neutral\n",
              "2         Baconateer  ...            neutral\n",
              "6               JoeK  ...            neutral\n",
              "7             sp6068  ...            neutral\n",
              "8              CWW88  ...            neutral\n",
              "9       ketupatlazat  ...            neutral\n",
              "10           alexkos  ...            neutral\n",
              "18          TScringe  ...            neutral\n",
              "19          robert82  ...            neutral\n",
              "23               t3n  ...            neutral\n",
              "25      Zanei Gundan  ...            neutral\n",
              "26            bill11  ...            neutral\n",
              "27      Chekusan2019  ...            neutral\n",
              "30  hightechgadgets8  ...            neutral\n",
              "31         leotorino  ...            neutral\n",
              "32          hjffgjng  ...            neutral\n",
              "33               ze2  ...            neutral\n",
              "34        Aaronnnnnn  ...            neutral\n",
              "36     Nervous Levin  ...            neutral\n",
              "39             noien  ...            neutral\n",
              "40         smallcrab  ...            neutral\n",
              "42              MPPJ  ...            neutral\n",
              "45           TheRant  ...            neutral\n",
              "49             fumie  ...            neutral\n",
              "54             xSean  ...            neutral\n",
              "56            andise  ...            neutral\n",
              "59           POYOZER  ...            neutral\n",
              "60            andise  ...            neutral\n",
              "62       kcchong2000  ...            neutral\n",
              "\n",
              "[29 rows x 4 columns]"
            ]
          },
          "metadata": {
            "tags": []
          },
          "execution_count": 354
        }
      ]
    },
    {
      "cell_type": "code",
      "metadata": {
        "id": "PPVLCwHz9JNW",
        "colab_type": "code",
        "colab": {}
      },
      "source": [
        "neutral.to_csv(\"neutral.csv\")\n",
        "files.download(\"neutral.csv\")"
      ],
      "execution_count": 0,
      "outputs": []
    }
  ]
}